{
 "cells": [
  {
   "cell_type": "code",
   "execution_count": 1,
   "metadata": {},
   "outputs": [
    {
     "name": "stderr",
     "output_type": "stream",
     "text": [
      "c:\\users\\gyorgym\\apps\\miniconda3\\envs\\dl\\lib\\site-packages\\gensim\\utils.py:1209: UserWarning: detected Windows; aliasing chunkize to chunkize_serial\n",
      "  warnings.warn(\"detected Windows; aliasing chunkize to chunkize_serial\")\n"
     ]
    }
   ],
   "source": [
    "import string\n",
    "from collections import defaultdict\n",
    "import numpy as np\n",
    "import pandas as pd\n",
    "import nltk\n",
    "from nltk.corpus import stopwords\n",
    "from nltk.stem.wordnet import WordNetLemmatizer\n",
    "from gensim import corpora, models"
   ]
  },
  {
   "cell_type": "code",
   "execution_count": 3,
   "metadata": {},
   "outputs": [
    {
     "name": "stdout",
     "output_type": "stream",
     "text": [
      "[nltk_data] Downloading package stopwords to\n",
      "[nltk_data]     C:\\Users\\GyorgyM\\AppData\\Roaming\\nltk_data...\n",
      "[nltk_data]   Package stopwords is already up-to-date!\n",
      "[nltk_data] Downloading package wordnet to\n",
      "[nltk_data]     C:\\Users\\GyorgyM\\AppData\\Roaming\\nltk_data...\n",
      "[nltk_data]   Package wordnet is already up-to-date!\n"
     ]
    },
    {
     "data": {
      "text/plain": [
       "True"
      ]
     },
     "execution_count": 3,
     "metadata": {},
     "output_type": "execute_result"
    }
   ],
   "source": [
    "tweets_csv = pd.read_csv(\"Data/twcs.csv\")\n",
    "nltk.download(\"stopwords\")\n",
    "nltk.download(\"wordnet\")"
   ]
  },
  {
   "cell_type": "code",
   "execution_count": 4,
   "metadata": {},
   "outputs": [
    {
     "data": {
      "text/html": [
       "<div>\n",
       "<style scoped>\n",
       "    .dataframe tbody tr th:only-of-type {\n",
       "        vertical-align: middle;\n",
       "    }\n",
       "\n",
       "    .dataframe tbody tr th {\n",
       "        vertical-align: top;\n",
       "    }\n",
       "\n",
       "    .dataframe thead th {\n",
       "        text-align: right;\n",
       "    }\n",
       "</style>\n",
       "<table border=\"1\" class=\"dataframe\">\n",
       "  <thead>\n",
       "    <tr style=\"text-align: right;\">\n",
       "      <th></th>\n",
       "      <th>tweet_id</th>\n",
       "      <th>text</th>\n",
       "      <th>in_response_to_tweet_id</th>\n",
       "    </tr>\n",
       "  </thead>\n",
       "  <tbody>\n",
       "    <tr>\n",
       "      <th>0</th>\n",
       "      <td>1</td>\n",
       "      <td>@115712 I understand. I would like to assist y...</td>\n",
       "      <td>3</td>\n",
       "    </tr>\n",
       "    <tr>\n",
       "      <th>1</th>\n",
       "      <td>2</td>\n",
       "      <td>@sprintcare and how do you propose we do that</td>\n",
       "      <td>1</td>\n",
       "    </tr>\n",
       "    <tr>\n",
       "      <th>2</th>\n",
       "      <td>3</td>\n",
       "      <td>@sprintcare I have sent several private messag...</td>\n",
       "      <td>4</td>\n",
       "    </tr>\n",
       "    <tr>\n",
       "      <th>3</th>\n",
       "      <td>4</td>\n",
       "      <td>@115712 Please send us a Private Message so th...</td>\n",
       "      <td>5</td>\n",
       "    </tr>\n",
       "    <tr>\n",
       "      <th>4</th>\n",
       "      <td>5</td>\n",
       "      <td>@sprintcare I did.</td>\n",
       "      <td>6</td>\n",
       "    </tr>\n",
       "  </tbody>\n",
       "</table>\n",
       "</div>"
      ],
      "text/plain": [
       "   tweet_id                                               text  \\\n",
       "0         1  @115712 I understand. I would like to assist y...   \n",
       "1         2      @sprintcare and how do you propose we do that   \n",
       "2         3  @sprintcare I have sent several private messag...   \n",
       "3         4  @115712 Please send us a Private Message so th...   \n",
       "4         5                                 @sprintcare I did.   \n",
       "\n",
       "   in_response_to_tweet_id  \n",
       "0                        3  \n",
       "1                        1  \n",
       "2                        4  \n",
       "3                        5  \n",
       "4                        6  "
      ]
     },
     "execution_count": 4,
     "metadata": {},
     "output_type": "execute_result"
    }
   ],
   "source": [
    "first_mask = tweets_csv.in_response_to_tweet_id.isnull()\n",
    "first_tweets = tweets_csv.loc[first_mask, [\"tweet_id\", \"text\"]].copy()\n",
    "response_tweets = tweets_csv.loc[~first_mask, [\"tweet_id\", \"text\", \"in_response_to_tweet_id\"]].copy()\n",
    "response_tweets[\"in_response_to_tweet_id\"] = response_tweets[\"in_response_to_tweet_id\"].astype(\"int64\").values\n",
    "response_tweets.head()"
   ]
  },
  {
   "cell_type": "code",
   "execution_count": 32,
   "metadata": {},
   "outputs": [
    {
     "data": {
      "text/html": [
       "<div>\n",
       "<style scoped>\n",
       "    .dataframe tbody tr th:only-of-type {\n",
       "        vertical-align: middle;\n",
       "    }\n",
       "\n",
       "    .dataframe tbody tr th {\n",
       "        vertical-align: top;\n",
       "    }\n",
       "\n",
       "    .dataframe thead th {\n",
       "        text-align: right;\n",
       "    }\n",
       "</style>\n",
       "<table border=\"1\" class=\"dataframe\">\n",
       "  <thead>\n",
       "    <tr style=\"text-align: right;\">\n",
       "      <th></th>\n",
       "      <th>tweet_id</th>\n",
       "      <th>text</th>\n",
       "      <th>tweet_id_1</th>\n",
       "      <th>text_1</th>\n",
       "      <th>in_response_to_tweet_id</th>\n",
       "    </tr>\n",
       "  </thead>\n",
       "  <tbody>\n",
       "    <tr>\n",
       "      <th>0</th>\n",
       "      <td>8</td>\n",
       "      <td>@sprintcare is the worst customer service</td>\n",
       "      <td>6</td>\n",
       "      <td>@115712 Can you please send us a private messa...</td>\n",
       "      <td>8</td>\n",
       "    </tr>\n",
       "    <tr>\n",
       "      <th>1</th>\n",
       "      <td>8</td>\n",
       "      <td>@sprintcare is the worst customer service</td>\n",
       "      <td>9</td>\n",
       "      <td>@115712 I would love the chance to review the ...</td>\n",
       "      <td>8</td>\n",
       "    </tr>\n",
       "    <tr>\n",
       "      <th>2</th>\n",
       "      <td>8</td>\n",
       "      <td>@sprintcare is the worst customer service</td>\n",
       "      <td>10</td>\n",
       "      <td>@115712 Hello! We never like our customers to ...</td>\n",
       "      <td>8</td>\n",
       "    </tr>\n",
       "    <tr>\n",
       "      <th>3</th>\n",
       "      <td>18</td>\n",
       "      <td>@115714 y’all lie about your “great” connectio...</td>\n",
       "      <td>17</td>\n",
       "      <td>@115713 H there! We'd definitely like to work ...</td>\n",
       "      <td>18</td>\n",
       "    </tr>\n",
       "    <tr>\n",
       "      <th>4</th>\n",
       "      <td>20</td>\n",
       "      <td>@115714 whenever I contact customer support, t...</td>\n",
       "      <td>19</td>\n",
       "      <td>@115715 Please send me a private message so th...</td>\n",
       "      <td>20</td>\n",
       "    </tr>\n",
       "  </tbody>\n",
       "</table>\n",
       "</div>"
      ],
      "text/plain": [
       "   tweet_id                                               text  tweet_id_1  \\\n",
       "0         8          @sprintcare is the worst customer service           6   \n",
       "1         8          @sprintcare is the worst customer service           9   \n",
       "2         8          @sprintcare is the worst customer service          10   \n",
       "3        18  @115714 y’all lie about your “great” connectio...          17   \n",
       "4        20  @115714 whenever I contact customer support, t...          19   \n",
       "\n",
       "                                              text_1  in_response_to_tweet_id  \n",
       "0  @115712 Can you please send us a private messa...                        8  \n",
       "1  @115712 I would love the chance to review the ...                        8  \n",
       "2  @115712 Hello! We never like our customers to ...                        8  \n",
       "3  @115713 H there! We'd definitely like to work ...                       18  \n",
       "4  @115715 Please send me a private message so th...                       20  "
      ]
     },
     "execution_count": 32,
     "metadata": {},
     "output_type": "execute_result"
    }
   ],
   "source": [
    "left = first_tweets\n",
    "right = response_tweets\n",
    "\n",
    "merged = pd.merge(left, right, how=\"left\", left_on=\"tweet_id\", right_on=\"in_response_to_tweet_id\", \n",
    "                  suffixes=(\"\", \"_1\"))\n",
    "# merged = merged[[col for col in merged.columns if col != \"in_response_to_tweet_id\"]]\n",
    "merged.head()"
   ]
  },
  {
   "cell_type": "code",
   "execution_count": null,
   "metadata": {},
   "outputs": [],
   "source": [
    "left = first_tweets\n",
    "right = response_tweets\n",
    "\n",
    "n = 1\n",
    "while not right.empty:\n",
    "    left_on = \"tweet_id_\" + str(n - 1) if n > 1 else \"tweet_id\"\n",
    "    right_on = \"in_response_to_tweet_id\"\n",
    "    \n",
    "    merged = pd.merge(left, right, how=\"outer\", left_on=left_on, right_on=right_on, suffixes=(\"\", \"_\" + str(n)))\n",
    "    \n",
    "    left_rows = merged[left_on].notnull() # & merged[right_on].notnull()\n",
    "    left = merged.loc[left_rows, [col for col in merged.columns if col != \"in_response_to_tweet_id\"]]\n",
    "    \n",
    "    right_rows = ~left_rows # merged[left_on].isnull() & merged[right_on].notnull()\n",
    "    right = merged.loc[right_rows, [\"tweet_id_\" + str(n), \"text_\" + str(n), right_on]]\n",
    "    right.columns = [\"tweet_id\", \"text\", right_on]\n",
    "    \n",
    "    n = n + 1\n",
    "    if n > 5:\n",
    "        break\n",
    "    \n",
    "    \n",
    "    "
   ]
  },
  {
   "cell_type": "code",
   "execution_count": 44,
   "metadata": {},
   "outputs": [],
   "source": [
    "first_tweets = tweets_csv[tweets_csv.in_response_to_tweet_id.isnull()].copy()\n",
    "responses = tweets_csv[tweets_csv.in_response_to_tweet_id.notnull()].copy()\n",
    "\n",
    "first_interactions = pd.merge(first_tweets, responses, how=\"left\", left_on=\"tweet_id\", right_on=\"in_response_to_tweet_id\")\n",
    "first_interactions = first_interactions[[\"tweet_id_x\", \"text_x\", \"text_y\"]]\n",
    "first_interactions.columns = [\"id\", \"issue\", \"response\"]"
   ]
  },
  {
   "cell_type": "code",
   "execution_count": 100,
   "metadata": {},
   "outputs": [
    {
     "data": {
      "text/plain": [
       "[['115712',\n",
       "  'understand',\n",
       "  'would',\n",
       "  'like',\n",
       "  'assist',\n",
       "  'you',\n",
       "  'would',\n",
       "  'need',\n",
       "  'get',\n",
       "  'private',\n",
       "  'secured',\n",
       "  'link',\n",
       "  'assist'],\n",
       " ['sprintcare', 'propose'],\n",
       " ['sprintcare',\n",
       "  'sent',\n",
       "  'several',\n",
       "  'private',\n",
       "  'message',\n",
       "  'one',\n",
       "  'responding',\n",
       "  'usual'],\n",
       " ['115712',\n",
       "  'please',\n",
       "  'send',\n",
       "  'u',\n",
       "  'private',\n",
       "  'message',\n",
       "  'assist',\n",
       "  'you',\n",
       "  'click',\n",
       "  '‘message’',\n",
       "  'top',\n",
       "  'profile'],\n",
       " ['sprintcare', 'did'],\n",
       " ['115712',\n",
       "  'please',\n",
       "  'send',\n",
       "  'u',\n",
       "  'private',\n",
       "  'message',\n",
       "  'gain',\n",
       "  'detail',\n",
       "  'account'],\n",
       " ['sprintcare', 'worst', 'customer', 'service'],\n",
       " ['115713',\n",
       "  'saddening',\n",
       "  'hear',\n",
       "  'please',\n",
       "  'shoot',\n",
       "  'u',\n",
       "  'dm',\n",
       "  'look',\n",
       "  'you',\n",
       "  'kc'],\n",
       " ['sprintcare',\n",
       "  'gonna',\n",
       "  'magically',\n",
       "  'change',\n",
       "  'connectivity',\n",
       "  'whole',\n",
       "  'family',\n",
       "  '🤥',\n",
       "  '💯'],\n",
       " ['115713',\n",
       "  'understand',\n",
       "  'concern',\n",
       "  'wed',\n",
       "  'like',\n",
       "  'please',\n",
       "  'send',\n",
       "  'u',\n",
       "  'direct',\n",
       "  'message',\n",
       "  'assist',\n",
       "  'you',\n",
       "  'aa']]"
      ]
     },
     "execution_count": 100,
     "metadata": {},
     "output_type": "execute_result"
    }
   ],
   "source": [
    "stop = set(stopwords.words('english'))\n",
    "punct = \"\".join([p for p in string.punctuation if i not in [\"-\"]])\n",
    "lemma = WordNetLemmatizer()\n",
    "\n",
    "def get_cleaned_doc(doc):\n",
    "    stop_free = \" \".join([i for i in doc.lower().split() if i not in stop])\n",
    "    punc_free = ''.join(ch for ch in stop_free if ch not in punct)\n",
    "    normalized = [lemma.lemmatize(word) for word in punc_free.split()]\n",
    "    return normalized\n",
    "\n",
    "documents = [get_cleaned_doc(doc) for doc in tweets_csv.text]\n"
   ]
  },
  {
   "cell_type": "code",
   "execution_count": 101,
   "metadata": {},
   "outputs": [
    {
     "ename": "KeyboardInterrupt",
     "evalue": "",
     "output_type": "error",
     "traceback": [
      "\u001b[1;31m---------------------------------------------------------------------------\u001b[0m",
      "\u001b[1;31mKeyboardInterrupt\u001b[0m                         Traceback (most recent call last)",
      "\u001b[1;32mc:\\users\\gyorgym\\apps\\miniconda3\\envs\\dl\\lib\\site-packages\\IPython\\core\\interactiveshell.py\u001b[0m in \u001b[0;36mrun_code\u001b[1;34m(self, code_obj, result)\u001b[0m\n\u001b[0;32m   2962\u001b[0m                 \u001b[1;31m#rprint('Running code', repr(code_obj)) # dbg\u001b[0m\u001b[1;33m\u001b[0m\u001b[1;33m\u001b[0m\u001b[0m\n\u001b[1;32m-> 2963\u001b[1;33m                 \u001b[0mexec\u001b[0m\u001b[1;33m(\u001b[0m\u001b[0mcode_obj\u001b[0m\u001b[1;33m,\u001b[0m \u001b[0mself\u001b[0m\u001b[1;33m.\u001b[0m\u001b[0muser_global_ns\u001b[0m\u001b[1;33m,\u001b[0m \u001b[0mself\u001b[0m\u001b[1;33m.\u001b[0m\u001b[0muser_ns\u001b[0m\u001b[1;33m)\u001b[0m\u001b[1;33m\u001b[0m\u001b[0m\n\u001b[0m\u001b[0;32m   2964\u001b[0m             \u001b[1;32mfinally\u001b[0m\u001b[1;33m:\u001b[0m\u001b[1;33m\u001b[0m\u001b[0m\n",
      "\u001b[1;32m<ipython-input-101-cc1356301c47>\u001b[0m in \u001b[0;36m<module>\u001b[1;34m()\u001b[0m\n\u001b[0;32m      1\u001b[0m \u001b[0mdictionary\u001b[0m \u001b[1;33m=\u001b[0m \u001b[0mcorpora\u001b[0m\u001b[1;33m.\u001b[0m\u001b[0mDictionary\u001b[0m\u001b[1;33m(\u001b[0m\u001b[0mdocuments\u001b[0m\u001b[1;33m)\u001b[0m\u001b[1;33m\u001b[0m\u001b[0m\n\u001b[1;32m----> 2\u001b[1;33m \u001b[0mdoc_term_matrix\u001b[0m \u001b[1;33m=\u001b[0m \u001b[1;33m[\u001b[0m\u001b[0mdictionary\u001b[0m\u001b[1;33m.\u001b[0m\u001b[0mdoc2bow\u001b[0m\u001b[1;33m(\u001b[0m\u001b[0mdoc\u001b[0m\u001b[1;33m)\u001b[0m \u001b[1;32mfor\u001b[0m \u001b[0mdoc\u001b[0m \u001b[1;32min\u001b[0m \u001b[0mdocuments\u001b[0m\u001b[1;33m]\u001b[0m\u001b[1;33m\u001b[0m\u001b[0m\n\u001b[0m",
      "\u001b[1;32m<ipython-input-101-cc1356301c47>\u001b[0m in \u001b[0;36m<listcomp>\u001b[1;34m(.0)\u001b[0m\n\u001b[0;32m      1\u001b[0m \u001b[0mdictionary\u001b[0m \u001b[1;33m=\u001b[0m \u001b[0mcorpora\u001b[0m\u001b[1;33m.\u001b[0m\u001b[0mDictionary\u001b[0m\u001b[1;33m(\u001b[0m\u001b[0mdocuments\u001b[0m\u001b[1;33m)\u001b[0m\u001b[1;33m\u001b[0m\u001b[0m\n\u001b[1;32m----> 2\u001b[1;33m \u001b[0mdoc_term_matrix\u001b[0m \u001b[1;33m=\u001b[0m \u001b[1;33m[\u001b[0m\u001b[0mdictionary\u001b[0m\u001b[1;33m.\u001b[0m\u001b[0mdoc2bow\u001b[0m\u001b[1;33m(\u001b[0m\u001b[0mdoc\u001b[0m\u001b[1;33m)\u001b[0m \u001b[1;32mfor\u001b[0m \u001b[0mdoc\u001b[0m \u001b[1;32min\u001b[0m \u001b[0mdocuments\u001b[0m\u001b[1;33m]\u001b[0m\u001b[1;33m\u001b[0m\u001b[0m\n\u001b[0m",
      "\u001b[1;32mc:\\users\\gyorgym\\apps\\miniconda3\\envs\\dl\\lib\\site-packages\\gensim\\corpora\\dictionary.py\u001b[0m in \u001b[0;36mdoc2bow\u001b[1;34m(self, document, allow_update, return_missing)\u001b[0m\n\u001b[0;32m    250\u001b[0m                     \u001b[0mtoken2id\u001b[0m\u001b[1;33m[\u001b[0m\u001b[0mw\u001b[0m\u001b[1;33m]\u001b[0m \u001b[1;33m=\u001b[0m \u001b[0mlen\u001b[0m\u001b[1;33m(\u001b[0m\u001b[0mtoken2id\u001b[0m\u001b[1;33m)\u001b[0m\u001b[1;33m\u001b[0m\u001b[0m\n\u001b[1;32m--> 251\u001b[1;33m         \u001b[0mresult\u001b[0m \u001b[1;33m=\u001b[0m \u001b[1;33m{\u001b[0m\u001b[0mtoken2id\u001b[0m\u001b[1;33m[\u001b[0m\u001b[0mw\u001b[0m\u001b[1;33m]\u001b[0m\u001b[1;33m:\u001b[0m \u001b[0mfreq\u001b[0m \u001b[1;32mfor\u001b[0m \u001b[0mw\u001b[0m\u001b[1;33m,\u001b[0m \u001b[0mfreq\u001b[0m \u001b[1;32min\u001b[0m \u001b[0miteritems\u001b[0m\u001b[1;33m(\u001b[0m\u001b[0mcounter\u001b[0m\u001b[1;33m)\u001b[0m \u001b[1;32mif\u001b[0m \u001b[0mw\u001b[0m \u001b[1;32min\u001b[0m \u001b[0mtoken2id\u001b[0m\u001b[1;33m}\u001b[0m\u001b[1;33m\u001b[0m\u001b[0m\n\u001b[0m\u001b[0;32m    252\u001b[0m \u001b[1;33m\u001b[0m\u001b[0m\n",
      "\u001b[1;31mKeyboardInterrupt\u001b[0m: ",
      "\nDuring handling of the above exception, another exception occurred:\n",
      "\u001b[1;31mKeyboardInterrupt\u001b[0m                         Traceback (most recent call last)",
      "\u001b[1;31mKeyboardInterrupt\u001b[0m: "
     ]
    }
   ],
   "source": [
    "dictionary = corpora.Dictionary(documents)\n",
    "doc_term_matrix = [dictionary.doc2bow(doc) for doc in documents]"
   ]
  },
  {
   "cell_type": "code",
   "execution_count": null,
   "metadata": {},
   "outputs": [],
   "source": [
    "doc_term_matrix"
   ]
  },
  {
   "cell_type": "code",
   "execution_count": 78,
   "metadata": {},
   "outputs": [],
   "source": [
    "tweets_csv.text[:10].to_csv(\"Data/o.txt\")"
   ]
  },
  {
   "cell_type": "code",
   "execution_count": 70,
   "metadata": {},
   "outputs": [
    {
     "data": {
      "text/plain": [
       "'!\"#$%&\\'()*+,-./:;<=>?@[\\\\]^_`{|}~'"
      ]
     },
     "execution_count": 70,
     "metadata": {},
     "output_type": "execute_result"
    }
   ],
   "source": [
    "string.punctuation"
   ]
  }
 ],
 "metadata": {
  "kernelspec": {
   "display_name": "Python 3",
   "language": "python",
   "name": "python3"
  },
  "language_info": {
   "codemirror_mode": {
    "name": "ipython",
    "version": 3
   },
   "file_extension": ".py",
   "mimetype": "text/x-python",
   "name": "python",
   "nbconvert_exporter": "python",
   "pygments_lexer": "ipython3",
   "version": "3.6.5"
  }
 },
 "nbformat": 4,
 "nbformat_minor": 2
}
